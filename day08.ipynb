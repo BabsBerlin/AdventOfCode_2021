{
 "cells": [
  {
   "cell_type": "markdown",
   "id": "cb2b3cd2-0dcc-4b2e-8914-6512e43074bf",
   "metadata": {},
   "source": [
    "# Advent of Code 2021 day08"
   ]
  },
  {
   "cell_type": "markdown",
   "id": "78307f01-cab9-4a5a-936f-f3cbfea1af32",
   "metadata": {},
   "source": [
    "#### data import"
   ]
  },
  {
   "cell_type": "code",
   "execution_count": 1,
   "id": "51134ea7-d390-4fd9-86e6-afaf3b24a236",
   "metadata": {
    "tags": []
   },
   "outputs": [],
   "source": [
    "raw_file = 'day08_test.txt'\n",
    "#raw_file = 'day08.txt'\n",
    "\n",
    "with open(raw_file) as file:\n",
    "    input = file.readlines()\n",
    "\n",
    "input = [line.split('|') for line in input]\n",
    "\n",
    "# part 1 of the line: the decoder\n",
    "data_decoder = []\n",
    "for l in input:\n",
    "    data_decoder.append(l[0])\n",
    "\n",
    "# part 2 of the line: the code to decode\n",
    "data = []\n",
    "for l in input:\n",
    "    data.append(l[1].strip())\n",
    "    \n",
    "data_decoder = [x.split() for x in data_decoder]\n",
    "data = [x.split() for x in data]"
   ]
  },
  {
   "cell_type": "code",
   "execution_count": 2,
   "id": "fe5025b0-e2db-4afe-b10f-c73436de7848",
   "metadata": {},
   "outputs": [
    {
     "name": "stdout",
     "output_type": "stream",
     "text": [
      "the decoder:\n",
      "[['be', 'cfbegad', 'cbdgef', 'fgaecd', 'cgeb', 'fdcge', 'agebfd', 'fecdb', 'fabcd', 'edb'], ['edbfga', 'begcd', 'cbg', 'gc', 'gcadebf', 'fbgde', 'acbgfd', 'abcde', 'gfcbed', 'gfec'], ['fgaebd', 'cg', 'bdaec', 'gdafb', 'agbcfd', 'gdcbef', 'bgcad', 'gfac', 'gcb', 'cdgabef'], ['fbegcd', 'cbd', 'adcefb', 'dageb', 'afcb', 'bc', 'aefdc', 'ecdab', 'fgdeca', 'fcdbega'], ['aecbfdg', 'fbg', 'gf', 'bafeg', 'dbefa', 'fcge', 'gcbea', 'fcaegb', 'dgceab', 'fcbdga'], ['fgeab', 'ca', 'afcebg', 'bdacfeg', 'cfaedg', 'gcfdb', 'baec', 'bfadeg', 'bafgc', 'acf'], ['dbcfg', 'fgd', 'bdegcaf', 'fgec', 'aegbdf', 'ecdfab', 'fbedc', 'dacgb', 'gdcebf', 'gf'], ['bdfegc', 'cbegaf', 'gecbf', 'dfcage', 'bdacg', 'ed', 'bedf', 'ced', 'adcbefg', 'gebcd'], ['egadfb', 'cdbfeg', 'cegd', 'fecab', 'cgb', 'gbdefca', 'cg', 'fgcdab', 'egfdb', 'bfceg'], ['gcafb', 'gcf', 'dcaebfg', 'ecagb', 'gf', 'abcdeg', 'gaef', 'cafbge', 'fdbac', 'fegbdc']]\n",
      "***\n",
      "the data:\n",
      "[['fdgacbe', 'cefdb', 'cefbgd', 'gcbe'], ['fcgedb', 'cgb', 'dgebacf', 'gc'], ['cg', 'cg', 'fdcagb', 'cbg'], ['efabcd', 'cedba', 'gadfec', 'cb'], ['gecf', 'egdcabf', 'bgf', 'bfgea'], ['gebdcfa', 'ecba', 'ca', 'fadegcb'], ['cefg', 'dcbef', 'fcge', 'gbcadfe'], ['ed', 'bcgafe', 'cdgba', 'cbgef'], ['gbdfcae', 'bgc', 'cg', 'cgb'], ['fgae', 'cfgab', 'fg', 'bagce']]\n"
     ]
    }
   ],
   "source": [
    "print('the decoder:')\n",
    "print(data_decoder)\n",
    "print('***')\n",
    "print('the data:')\n",
    "print(data)"
   ]
  },
  {
   "cell_type": "markdown",
   "id": "e2e8823f-baa0-4bc1-8294-f7cc0c1c0d4d",
   "metadata": {},
   "source": [
    "---\n",
    "### Part 1"
   ]
  },
  {
   "cell_type": "code",
   "execution_count": 3,
   "id": "705ff27e-d848-42cc-b82d-aa533a8e809d",
   "metadata": {},
   "outputs": [
    {
     "name": "stdout",
     "output_type": "stream",
     "text": [
      "26\n"
     ]
    }
   ],
   "source": [
    "count = 0\n",
    "for x in data:\n",
    "    for y in x:\n",
    "        if len(y) == 7 or len(y) == 2 or len(y) == 3 or len(y) == 4:\n",
    "            count = count + 1\n",
    "print(count)"
   ]
  },
  {
   "cell_type": "markdown",
   "id": "0475182c-afce-487b-8cfa-9292629b59e8",
   "metadata": {},
   "source": [
    "---\n",
    "### Part 2"
   ]
  },
  {
   "cell_type": "markdown",
   "id": "face0df0-2d30-444f-9a6b-d48d4d6819de",
   "metadata": {},
   "source": [
    "#### method to create the decoder"
   ]
  },
  {
   "cell_type": "code",
   "execution_count": 4,
   "id": "343dfb36-97e1-4b87-b448-79806a3f4f5e",
   "metadata": {},
   "outputs": [],
   "source": [
    "# helper\n",
    "def codeparts_found_in_other_code(codeparts, other_code):\n",
    "    for x in codeparts:\n",
    "        if x not in other_code:\n",
    "            return False\n",
    "    return True\n",
    "\n",
    "# helper to identify 5\n",
    "def find_top_right(decoder):\n",
    "    possible_code = ['a','b','c','d','e','f','g']\n",
    "    for pc in possible_code:\n",
    "        if pc in list(decoder.keys())[list(decoder.values()).index(1)] and pc not in list(decoder.keys())[list(decoder.values()).index(6)]:\n",
    "            return pc\n",
    "    \n",
    "\n",
    "# input the decoder strings for each line\n",
    "def create_decoder(data_decoder):\n",
    "    data_decoder = list(sorted(data_decoder, key = len))\n",
    "    decoder = {}\n",
    "    decoder[''.join(sorted(data_decoder[-1]))] = 8\n",
    "    for c in data_decoder:\n",
    "        c = ''.join(sorted(c))\n",
    "        if len(c) == 2:\n",
    "            decoder[c] = 1\n",
    "        elif len(c) == 3:\n",
    "            decoder[c] = 7\n",
    "        elif len(c) == 4:\n",
    "            decoder[c] = 4\n",
    "        elif len(c) == 7:\n",
    "            decoder.pop(c)\n",
    "            decoder[c] = 8\n",
    "        elif len(c) == 5: # 2 or 3 or 5\n",
    "            # chars also in 7 -> 3\n",
    "            if codeparts_found_in_other_code(list(decoder.keys())[list(decoder.values()).index(7)], c):\n",
    "                decoder[c] = 3\n",
    "            else:\n",
    "                decoder[c] = 2\n",
    "        elif len(c) == 6: # 6 or 9 or 0\n",
    "            # chars are also in 4 then -> 9\n",
    "            if codeparts_found_in_other_code(list(decoder.keys())[list(decoder.values()).index(4)], c):\n",
    "                decoder[c] = 9\n",
    "            # chars are also in 7 then -> 0\n",
    "            elif codeparts_found_in_other_code(list(decoder.keys())[list(decoder.values()).index(7)], c):\n",
    "                decoder[c] = 0\n",
    "            else:\n",
    "                decoder[c] = 6\n",
    "    # now recheck to identify 5 - this was not possible beforehand, because top_right needs 6 and 1 (was was determined after the len=4 check)\n",
    "    for c in data_decoder:\n",
    "        c = ''.join(sorted(c))\n",
    "        if len(c) == 5 and decoder[c] != 3:\n",
    "            top_right = find_top_right(decoder)\n",
    "            if top_right not in c:\n",
    "                decoder[c] = 5\n",
    "    \n",
    "    return decoder\n"
   ]
  },
  {
   "cell_type": "markdown",
   "id": "27c096d6-5cf4-4a0c-a152-e1d4d21abea0",
   "metadata": {},
   "source": [
    "#### method to decode"
   ]
  },
  {
   "cell_type": "code",
   "execution_count": 5,
   "id": "2f105a4e-ca88-49e1-b94e-b45e03aec23f",
   "metadata": {},
   "outputs": [],
   "source": [
    "# input: the decoder and code for each line\n",
    "def decode(decoder, code):\n",
    "    s = ''\n",
    "    for x in code:\n",
    "        k = decoder[''.join(sorted(x))]\n",
    "        k = str(k)\n",
    "        s = s+k\n",
    "    return s\n"
   ]
  },
  {
   "cell_type": "markdown",
   "id": "4b93b496-a41b-4224-989e-bdc8222f3456",
   "metadata": {},
   "source": [
    "---\n",
    "#### now decode the whole code"
   ]
  },
  {
   "cell_type": "code",
   "execution_count": 6,
   "id": "cc7a1af3-465d-44d0-956a-eb9c26bdd065",
   "metadata": {},
   "outputs": [
    {
     "name": "stdout",
     "output_type": "stream",
     "text": [
      "61229\n"
     ]
    }
   ],
   "source": [
    "solution = 0\n",
    "for m in range(len(data)):\n",
    "    decoder = create_decoder(data_decoder[m])\n",
    "    result = int(decode(decoder, data[m]))\n",
    "    solution = solution + result\n",
    "print(solution)"
   ]
  },
  {
   "cell_type": "code",
   "execution_count": null,
   "id": "d474df77-d177-449b-974a-e27daaa46ada",
   "metadata": {},
   "outputs": [],
   "source": []
  }
 ],
 "metadata": {
  "kernelspec": {
   "display_name": "Python 3 (ipykernel)",
   "language": "python",
   "name": "python3"
  },
  "language_info": {
   "codemirror_mode": {
    "name": "ipython",
    "version": 3
   },
   "file_extension": ".py",
   "mimetype": "text/x-python",
   "name": "python",
   "nbconvert_exporter": "python",
   "pygments_lexer": "ipython3",
   "version": "3.8.12"
  }
 },
 "nbformat": 4,
 "nbformat_minor": 5
}
