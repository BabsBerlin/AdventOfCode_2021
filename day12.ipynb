{
 "cells": [
  {
   "cell_type": "markdown",
   "id": "b7ad7f41-2527-43ff-92de-20dddc6a62c5",
   "metadata": {},
   "source": [
    "# Advent of Code 2021 day 12"
   ]
  },
  {
   "cell_type": "markdown",
   "id": "40190a40-b7e0-48e6-b29e-3f934afc6bd3",
   "metadata": {},
   "source": [
    "### data input"
   ]
  },
  {
   "cell_type": "code",
   "execution_count": 1,
   "id": "a6cad073-c667-44c5-8222-f6e9d44fba89",
   "metadata": {
    "tags": []
   },
   "outputs": [
    {
     "name": "stdout",
     "output_type": "stream",
     "text": [
      "7\n"
     ]
    },
    {
     "data": {
      "text/plain": [
       "['start-A', 'start-b', 'A-c', 'A-b', 'b-d', 'A-end', 'b-end']"
      ]
     },
     "execution_count": 1,
     "metadata": {},
     "output_type": "execute_result"
    }
   ],
   "source": [
    "#raw_file = 'day12.txt'\n",
    "raw_file = 'day12_test.txt'\n",
    "\n",
    "with open(raw_file) as file:\n",
    "    input = file.readlines()\n",
    "\n",
    "data = [row.strip() for row in input]\n",
    "\n",
    "print(len(data))\n",
    "data"
   ]
  },
  {
   "cell_type": "markdown",
   "id": "34ac8cef-e45b-4560-bc80-ca13225596b6",
   "metadata": {},
   "source": [
    "#### create cavesystem dict, i.e. adjencency lists"
   ]
  },
  {
   "cell_type": "code",
   "execution_count": 2,
   "id": "478b09d2-cd86-4a06-b74a-4e54a518fafa",
   "metadata": {},
   "outputs": [
    {
     "data": {
      "text/plain": [
       "{'start': ['A', 'b'],\n",
       " 'A': ['start', 'c', 'b', 'end'],\n",
       " 'b': ['start', 'A', 'd', 'end'],\n",
       " 'c': ['A'],\n",
       " 'd': ['b'],\n",
       " 'end': ['A', 'b']}"
      ]
     },
     "execution_count": 2,
     "metadata": {},
     "output_type": "execute_result"
    }
   ],
   "source": [
    "# devide \n",
    "edges = [x.split('-') for x in data]\n",
    "\n",
    "# create a dict from caves with connecting caves\n",
    "caves = {}\n",
    "for x in edges:\n",
    "    if x[0] in list(caves.keys()):\n",
    "        caves[x[0]].append(x[1])\n",
    "    else:\n",
    "        caves[x[0]] = [x[1]]\n",
    "    if x[1] in list(caves.keys()):\n",
    "        caves[x[1]].append(x[0])\n",
    "    else:        \n",
    "        caves[x[1]] = [x[0]]\n",
    "        \n",
    "caves"
   ]
  },
  {
   "cell_type": "markdown",
   "id": "8c3394ca-1665-44e0-978c-a02ce51c51fc",
   "metadata": {},
   "source": [
    "#### create dict to store visited value - boolean"
   ]
  },
  {
   "cell_type": "code",
   "execution_count": 3,
   "id": "9397ac83-1b81-4030-ba88-9f550277f50a",
   "metadata": {},
   "outputs": [
    {
     "data": {
      "text/plain": [
       "{'d': False, 'c': False, 'b': False, 'A': False, 'start': False, 'end': False}"
      ]
     },
     "execution_count": 3,
     "metadata": {},
     "output_type": "execute_result"
    }
   ],
   "source": [
    "# get all individual nodes\n",
    "caves_points = []\n",
    "for x in edges:\n",
    "    for y in x:\n",
    "        caves_points.append(y)\n",
    "caves_points = list(set(caves_points))\n",
    "caves_points\n",
    "\n",
    "# no cave was visited before\n",
    "visited = {}\n",
    "for cave in caves_points:\n",
    "    visited[cave] = False\n",
    "\n",
    "visited"
   ]
  },
  {
   "cell_type": "markdown",
   "id": "4b2d7d9e-44fe-4105-b01e-936d70d8d20d",
   "metadata": {},
   "source": [
    "---\n",
    "## Part 1"
   ]
  },
  {
   "cell_type": "code",
   "execution_count": 4,
   "id": "88556c3f-d1d7-4120-baf6-97660c8775f5",
   "metadata": {},
   "outputs": [],
   "source": [
    "def find_paths(s, visited):\n",
    "    #global paths\n",
    "    \n",
    "    if visited[s] == True:\n",
    "        return\n",
    "    if s.islower():\n",
    "        visited[s] = True\n",
    "    \n",
    "    current_path.append(s)\n",
    "    \n",
    "    if s == 'end':\n",
    "        paths.append(str(current_path))\n",
    "        visited[s] = False\n",
    "        current_path.pop()\n",
    "        return\n",
    "    \n",
    "    for point in caves[s]:\n",
    "        find_paths(point, visited)\n",
    "        \n",
    "    current_path.pop()\n",
    "    visited[s] = False"
   ]
  },
  {
   "cell_type": "code",
   "execution_count": 5,
   "id": "fc7efc93-ae6a-42a3-833e-748f0bf88a68",
   "metadata": {
    "tags": []
   },
   "outputs": [
    {
     "name": "stdout",
     "output_type": "stream",
     "text": [
      "10\n"
     ]
    }
   ],
   "source": [
    "current_path = []\n",
    "paths = []\n",
    "\n",
    "find_paths('start', visited)\n",
    "print(len(paths))\n",
    "#paths"
   ]
  },
  {
   "cell_type": "markdown",
   "id": "cdcceb89-a9b5-4489-9a2c-bcec4cb72a31",
   "metadata": {},
   "source": [
    "---"
   ]
  },
  {
   "cell_type": "markdown",
   "id": "3d723bb7-fb8f-4b86-846f-549485678142",
   "metadata": {},
   "source": [
    "## Part 2"
   ]
  },
  {
   "cell_type": "markdown",
   "id": "fefddd45-2402-4de5-8ab9-9118e65baa36",
   "metadata": {},
   "source": [
    "#### create new visited list - now numerical"
   ]
  },
  {
   "cell_type": "code",
   "execution_count": 6,
   "id": "a82f1aa6-590c-4ba6-92ec-76db4fc07d52",
   "metadata": {},
   "outputs": [
    {
     "data": {
      "text/plain": [
       "{'d': 0, 'c': 0, 'b': 0, 'A': 0, 'start': 0, 'end': 0}"
      ]
     },
     "execution_count": 6,
     "metadata": {},
     "output_type": "execute_result"
    }
   ],
   "source": [
    "# no cave was visited before\n",
    "visited = {}\n",
    "for cave in caves_points:\n",
    "    visited[cave] = 0\n",
    "\n",
    "visited"
   ]
  },
  {
   "cell_type": "code",
   "execution_count": 7,
   "id": "f59e3ecb-7b81-4f3c-9e4d-54b65fd99d9b",
   "metadata": {},
   "outputs": [],
   "source": [
    "def cave_approved(cave, visited):\n",
    "    \n",
    "    # big caves can be visited multiple times\n",
    "    if cave.isupper():\n",
    "        return True\n",
    "    \n",
    "    # we cannot return to start\n",
    "    elif cave == 'start':\n",
    "        return False\n",
    "    \n",
    "    # if any small cave has been visited twice already ...\n",
    "    elif max(visited.values()) > 1:\n",
    "        # this cave can only be visited once\n",
    "        return visited[cave] < 1    \n",
    "    # otherwise ...\n",
    "    else:\n",
    "        # a small cave may be visited twice \n",
    "        return visited[cave] < 2"
   ]
  },
  {
   "cell_type": "code",
   "execution_count": 8,
   "id": "bf2720ca-f0d8-4ce0-aa3f-36e682348094",
   "metadata": {},
   "outputs": [],
   "source": [
    "def find_paths(s, visited):\n",
    "       \n",
    "    if s.islower():\n",
    "        visited[s] += 1\n",
    "    \n",
    "    current_path.append(s)\n",
    "    \n",
    "    if s == 'end':\n",
    "        paths.append(str(current_path))\n",
    "        visited[s] -= 1\n",
    "        current_path.pop()\n",
    "        return\n",
    "    \n",
    "    for point in caves[s]:\n",
    "        if cave_approved(point, visited):\n",
    "            find_paths(point, visited)\n",
    "        \n",
    "    current_path.pop()\n",
    "    if s.islower():\n",
    "        visited[s] -= 1"
   ]
  },
  {
   "cell_type": "code",
   "execution_count": 9,
   "id": "def32776-c630-427e-8aa7-c05e45675e85",
   "metadata": {},
   "outputs": [
    {
     "name": "stdout",
     "output_type": "stream",
     "text": [
      "36\n"
     ]
    }
   ],
   "source": [
    "current_path = []\n",
    "paths = []\n",
    "\n",
    "find_paths('start', visited)\n",
    "print(len(paths))\n",
    "#paths"
   ]
  },
  {
   "cell_type": "code",
   "execution_count": null,
   "id": "41cedd74-9516-4e07-a1be-6395befe88f5",
   "metadata": {},
   "outputs": [],
   "source": []
  },
  {
   "cell_type": "code",
   "execution_count": null,
   "id": "ebcae693-2de4-4925-b24c-5038b3f2235b",
   "metadata": {},
   "outputs": [],
   "source": []
  }
 ],
 "metadata": {
  "kernelspec": {
   "display_name": "Python 3 (ipykernel)",
   "language": "python",
   "name": "python3"
  },
  "language_info": {
   "codemirror_mode": {
    "name": "ipython",
    "version": 3
   },
   "file_extension": ".py",
   "mimetype": "text/x-python",
   "name": "python",
   "nbconvert_exporter": "python",
   "pygments_lexer": "ipython3",
   "version": "3.8.12"
  }
 },
 "nbformat": 4,
 "nbformat_minor": 5
}
