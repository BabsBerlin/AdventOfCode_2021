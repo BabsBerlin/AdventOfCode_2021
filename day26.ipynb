{
 "cells": [
  {
   "cell_type": "markdown",
   "id": "8e7205a8-f06e-4b7a-8f0e-468fbcc9f995",
   "metadata": {},
   "source": [
    "### Advent of Code 2021 - day 26 [Le Wagon edition]"
   ]
  },
  {
   "cell_type": "markdown",
   "id": "8cbe2eda-30cd-42df-b994-12db071caeec",
   "metadata": {},
   "source": [
    "This was a custom made challenge for our Le Wagon community. It was prepared by one of our teammates as a little thank you for our organizer Pil0u. The main task was to decipher some messages, the decryption process was not straight forward of course.\n",
    "\n",
    "Disclaimer: This code does only handle the decryption. The scraping of the other messages and necessary data is still to be completed."
   ]
  },
  {
   "cell_type": "code",
   "execution_count": 1,
   "id": "0915aa83-9ad7-4f22-b435-c3123f9129b3",
   "metadata": {},
   "outputs": [],
   "source": [
    "# Le Wagon - AOC placement of part1 and part2\n",
    "babs1 = [31,60,36,57,32,33,54,104,38,27,38,33,49,38,52,52,36,45,35,35,23,31,12,26,21]\n",
    "babs2 = [29,60,58,95,27,42,114,108,118,76,38,36,50,59,67,51,36,44,33,37,36,33,14,25,25]\n",
    "\n",
    "babs_id = 326\n",
    "message = \"sfwa8C)u8epY)k8G8 hsAxsrsn8CVsu8)C8ehwkh)y8RuPo))p8arYx8lhsf8xw8G8euw8CP8esf)p8G8CYA8!sxPC8DwxCDPhai8lD)r8lx8mY8eskshrD8y)8euPo8CG8 DY8h)y8Cusfs8ELGWvKv8DPaC8RuPCwshr8h)y8YépPd8PrhsK lCPuYxx)r8sx)Dskw8DPaC8)-k8hwy8DPaC8CsR8)C8spAw8ussA8\"\n"
   ]
  },
  {
   "cell_type": "markdown",
   "id": "382ccf81-a139-49db-9510-597d33aa835f",
   "metadata": {},
   "source": [
    "---\n",
    "#### part1: cipher - product and identifier\n",
    "- If the sender identifier is an even number, it is added to the product of the decryption key sequence.\n",
    "- If the sender identifier is an odd number, it is subtracted from the product of the decryption key sequence."
   ]
  },
  {
   "cell_type": "code",
   "execution_count": 2,
   "id": "2f381985-f2af-4f48-9c35-d48495d18f27",
   "metadata": {},
   "outputs": [],
   "source": [
    "def calculate_cipher(id, part2):    \n",
    "    decryption = 1\n",
    "    for value in part2:\n",
    "        decryption *= value\n",
    "\n",
    "    if id%2 == 0:\n",
    "        decryption += id\n",
    "    else:\n",
    "        decryption -= id\n",
    "        \n",
    "    return decryption\n"
   ]
  },
  {
   "cell_type": "markdown",
   "id": "b3ce4ee4-7e7d-488c-a6f6-2059958d169a",
   "metadata": {},
   "source": [
    "#### part2: cipher - every third digit\n",
    "Using the absolute value of the above calculation result, the cipher is the sequence of every third digit, starting from the left.\n"
   ]
  },
  {
   "cell_type": "code",
   "execution_count": 3,
   "id": "08839461-eac9-4120-84ba-4d01543327f8",
   "metadata": {},
   "outputs": [],
   "source": [
    "def take_every_third(cipher):\n",
    "    cipher = str(abs(decryption))\n",
    "    cipher = cipher[0:-1:3]\n",
    "    return cipher\n"
   ]
  },
  {
   "cell_type": "markdown",
   "id": "c91ad9a5-691b-41a6-a5c7-99e845e988c4",
   "metadata": {},
   "source": [
    "#### part3: cipher - convert to ternary\n",
    "The resulting cipher is then turned into a ternary number and processed from right to left."
   ]
  },
  {
   "cell_type": "code",
   "execution_count": 4,
   "id": "981507e3-e80e-41f4-a3ff-a036f2c6963f",
   "metadata": {},
   "outputs": [],
   "source": [
    "def ternary(n):\n",
    "    if n == 0:\n",
    "        return '0'\n",
    "    nums = []\n",
    "    while n:\n",
    "        n, r = divmod(n, 3)\n",
    "        nums.append(str(r))\n",
    "    return ''.join(reversed(nums))\n"
   ]
  },
  {
   "cell_type": "markdown",
   "id": "4f392a76-ef21-4baa-895d-32472ea36ce1",
   "metadata": {},
   "source": [
    "#### part4: message - shift message according to ternary cipher\n",
    "\n",
    "For each trit:\n",
    "- If the trit is a 1, shift the entire encoded message left by one character (the first character becomes the last).\n",
    "- If the trit is a 2, shift the entire encoded message right by the trit's magnitude (characters chopped off the end get added back to the beginning).\n",
    "- If the trit is a 0, reverse the message string.\n",
    "\n",
    "For cipher 46, the ternary representation is 1201. Suppose our string is abcde:\n",
    "abcde -(shift left by 1)> \n",
    "bcdea -(reverse)> \n",
    "aedcb -(shift right by 3^2 = 9)> e\n",
    "dcba -(shift left by 1)> dcbae"
   ]
  },
  {
   "cell_type": "code",
   "execution_count": 5,
   "id": "1cd50b4a-a929-4e65-a90f-ce9abf06bf92",
   "metadata": {},
   "outputs": [],
   "source": [
    "def shift_message(cipher, message):\n",
    "    \n",
    "    for index, c in enumerate(cipher[::-1]):\n",
    "        if c == '1':\n",
    "            # shift left\n",
    "            message = message[1:] + message[:1]\n",
    "        elif c == '2':\n",
    "            # shift right by the magnitude, e.g. 3^2=9\n",
    "            m = 3**index % len(message)\n",
    "            message = message[-m:] + message[:-m]\n",
    "        elif c == '0':\n",
    "            # reverse\n",
    "            message = message[::-1]\n",
    "            \n",
    "    return message\n"
   ]
  },
  {
   "cell_type": "markdown",
   "id": "ca78f05d-cb94-44af-9acc-b8e99edcce09",
   "metadata": {},
   "source": [
    "---"
   ]
  },
  {
   "cell_type": "markdown",
   "id": "5fa7e70e-fbab-46f8-a2ff-b593020e8703",
   "metadata": {},
   "source": [
    "#### part5: Rudolphabet\n",
    "\n",
    "North Pole HQ uses a special alphabet called the **Rudolphabet**. It works almost like the normal alphabet, except that the letter order follows their first appearance in the popular song lyrics. This includes, separately, lower- and upper-case letters. All remaining letters, punctuation marks, special characters and the space character are ignored and stay at the end. The Rudolphabet repeats over and over; if you have to shift further than its length, simply append the missing characters again.\n",
    "\n",
    "\n",
    "North Pole HQ previously used the **Jinglebet**, which turned the standard alphabet\n",
    "- ABCDEFGHIJKLMNOPQRSTUVWXYZabcdefghijklmnopqrstuvwxyzÇàéè0123456789 .!?,;:'-#/\\()\n",
    "- DashingtrouewOplfdLyBbmkWAjJIMFTNGHcCEKPQRSUVXYZqvxzÇàéè0123456789 .!?,;:'-#/\\()"
   ]
  },
  {
   "cell_type": "code",
   "execution_count": 6,
   "id": "13060157-6bab-460e-8c94-0cb44e16ba98",
   "metadata": {
    "tags": []
   },
   "outputs": [],
   "source": [
    "def create_rudolphabet():\n",
    "    with open('day26_rudolph.txt') as file:\n",
    "        songtext = file.readlines()\n",
    "\n",
    "    rudolphabet = []\n",
    "    punctuation = \" .!?,;:'-#/\\()\"\n",
    "\n",
    "    for line in songtext:\n",
    "        for x in line.strip():\n",
    "            if x not in rudolphabet and x not in punctuation:\n",
    "                rudolphabet.append(x)\n",
    "\n",
    "    abc = \"ABCDEFGHIJKLMNOPQRSTUVWXYZabcdefghijklmnopqrstuvwxyzÇàéè0123456789 .!?,;:'-#/\\()\"\n",
    "    for x in abc:\n",
    "        if x not in rudolphabet:\n",
    "            rudolphabet.append(x)\n",
    "    return rudolphabet\n"
   ]
  },
  {
   "cell_type": "markdown",
   "id": "bb286780-c517-4003-9123-995c93042ac9",
   "metadata": {},
   "source": [
    "#### part6: cipher - get prime factors"
   ]
  },
  {
   "cell_type": "code",
   "execution_count": 7,
   "id": "3d988aa0-46bc-4dc8-ac14-e99b55019a7b",
   "metadata": {},
   "outputs": [],
   "source": [
    "import math\n",
    "\n",
    "def primeFactorsSum(n):\n",
    "    prime_sum = 0\n",
    "\n",
    "    while n % 2 == 0:\n",
    "        prime_sum += 2\n",
    "        n = n / 2\n",
    "        \n",
    "    for i in range(3, int(math.sqrt(n)) + 1, 2):\n",
    "        while n % i == 0:\n",
    "            prime_sum += i\n",
    "            n = n / i\n",
    "    if n > 2:\n",
    "        prime_sum += n\n",
    "    \n",
    "    prime_sum = int(prime_sum)\n",
    "    if prime_sum == n:\n",
    "        prime_sum += 5\n",
    "        \n",
    "    return prime_sum\n"
   ]
  },
  {
   "cell_type": "markdown",
   "id": "ef086013-65bf-48cd-b21d-e01047d6ef4b",
   "metadata": {},
   "source": [
    "#### part7: message - Caesar Cipher\n",
    "Finally, the shifted message characters are decoded using a **Caesar cipher**:\n",
    "- Get the prime factors of the original cipher (in decimal) and shift each character along the Rudolphabet* by their sum.\n",
    "- If the cipher is a prime number (i.e. if its only prime factor is itself), add 5 to the value before you shift.\n",
    "- Using the Jinglebet, for cipher 46, we shift by 23+2 = 25: D becomes A, a becomes j, s becomes J and so on.\n"
   ]
  },
  {
   "cell_type": "code",
   "execution_count": 8,
   "id": "c54ef9c3-0dd0-4d41-ab12-d00f75c9b76d",
   "metadata": {},
   "outputs": [],
   "source": [
    "def decrypt_caesar_cipher(message, shift, alphabet):\n",
    "    alph_length = len(alphabet)\n",
    "    shift = shift % alph_length\n",
    "    decrypted = ''\n",
    "    for x in message:\n",
    "        # find position in alphabet and find new position in alphabet\n",
    "        for i, a in enumerate(alphabet):\n",
    "            if a == x:\n",
    "                index = (i + shift) % alph_length\n",
    "                break\n",
    "        # add that new character to decrypted\n",
    "        decrypted += alphabet[index]\n",
    "    return decrypted\n"
   ]
  },
  {
   "cell_type": "markdown",
   "id": "f7a3329a-6604-48f3-8f05-9ff00d701048",
   "metadata": {},
   "source": [
    "---"
   ]
  },
  {
   "cell_type": "code",
   "execution_count": 11,
   "id": "bc9a66db-9b84-4a15-b763-1a85bd3c2275",
   "metadata": {},
   "outputs": [
    {
     "name": "stdout",
     "output_type": "stream",
     "text": [
      "Merci Pil0u for creating this AMAZING event for us! It kind of screwed up my cosy Christmas time, but I loved it and I am very much looking forward to next December! I would not have been able to get this far w/o this awesome community!\n"
     ]
    }
   ],
   "source": [
    "babs2 = [29,60,58,95,27,42,114,108,118,76,38,36,50,59,67,51,36,44,33,37,36,33,14,25,25]\n",
    "babs_id = 326\n",
    "message = \"sfwa8C)u8epY)k8G8 hsAxsrsn8CVsu8)C8ehwkh)y8RuPo))p8arYx8lhsf8xw8G8euw8CP8esf)p8G8CYA8!sxPC8DwxCDPhai8lD)r8lx8mY8eskshrD8y)8euPo8CG8 DY8h)y8Cusfs8ELGWvKv8DPaC8RuPCwshr8h)y8YépPd8PrhsK lCPuYxx)r8sx)Dskw8DPaC8)-k8hwy8DPaC8CsR8)C8spAw8ussA8\"\n",
    "\n",
    "cipher = calculate_cipher(babs_id, babs2)\n",
    "\n",
    "cipher = take_every_third(cipher)\n",
    "\n",
    "cipher_ternary = ternary(int(cipher))\n",
    "\n",
    "message = shift_message(cipher_ternary, message)\n",
    "\n",
    "rudolphabet = create_rudolphabet()\n",
    "\n",
    "caesar_cipher = primeFactorsSum(int(cipher))\n",
    "\n",
    "decrypted_message = decrypt_caesar_cipher(message, caesar_cipher, rudolphabet)\n",
    "\n",
    "print(decrypted_message)\n"
   ]
  },
  {
   "cell_type": "code",
   "execution_count": null,
   "id": "13db1248-1dee-4e16-bf3b-31d7f9417661",
   "metadata": {},
   "outputs": [],
   "source": []
  }
 ],
 "metadata": {
  "kernelspec": {
   "display_name": "Python 3 (ipykernel)",
   "language": "python",
   "name": "python3"
  },
  "language_info": {
   "codemirror_mode": {
    "name": "ipython",
    "version": 3
   },
   "file_extension": ".py",
   "mimetype": "text/x-python",
   "name": "python",
   "nbconvert_exporter": "python",
   "pygments_lexer": "ipython3",
   "version": "3.8.12"
  }
 },
 "nbformat": 4,
 "nbformat_minor": 5
}
