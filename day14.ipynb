{
 "cells": [
  {
   "cell_type": "markdown",
   "id": "cecc8f64-b068-43ab-8f12-8cd48377488d",
   "metadata": {},
   "source": [
    "# Advent of Code 2021 day 14"
   ]
  },
  {
   "cell_type": "code",
   "execution_count": 9,
   "id": "0f3fd760-5f30-4c1b-9cdf-7728a090a92b",
   "metadata": {},
   "outputs": [],
   "source": [
    "from collections import defaultdict\n",
    "import numpy as np\n",
    "\n",
    "#polymer_template = 'NNCB'\n",
    "polymer_template = 'OFSNKKHCBSNKBKFFCVNB'\n",
    "\n",
    "raw_file = 'day14.txt'\n",
    "#raw_file = 'day14_test.txt'\n",
    "\n",
    "with open(raw_file) as file:\n",
    "    input = file.readlines()\n",
    "\n",
    "data = [row.strip() for row in input]\n",
    "data = [x.split(' -> ') for x in data]\n",
    "data = {x[0] : x[1] for x in data}\n",
    "\n",
    "polymer = list(polymer_template)"
   ]
  },
  {
   "cell_type": "markdown",
   "id": "825a346d-38f4-4d85-b4c8-c266140811e6",
   "metadata": {},
   "source": [
    "---\n",
    "## Part 2"
   ]
  },
  {
   "cell_type": "code",
   "execution_count": 17,
   "id": "3a5d8b6b-c19c-4893-823e-d066ff6c1e1b",
   "metadata": {},
   "outputs": [
    {
     "data": {
      "text/plain": [
       "2983163196701119"
      ]
     },
     "execution_count": 17,
     "metadata": {},
     "output_type": "execute_result"
    }
   ],
   "source": [
    "# initialize char_count - ALL ZEROS\n",
    "char_count = defaultdict(int)\n",
    "\n",
    "# fill char_count with first polymer - NNCB -> {'C': 1, 'H': 0, 'B': 1, 'N': 2}\n",
    "for char in polymer:\n",
    "    char_count[char] += 1\n",
    "\n",
    "# initialize poly_dict with zeros\n",
    "poly_dict = defaultdict(int)\n",
    "    \n",
    "# put the input polymer into a dict - NN NC CB\n",
    "for i in range(len(polymer)-1):\n",
    "    s = polymer[i] + polymer[i+1]\n",
    "    poly_dict[s] += 1    \n",
    "\n",
    "\n",
    "for x in range(40):\n",
    "    # initialize temporary dict\n",
    "    poly_temp = defaultdict(int)\n",
    "\n",
    "    # loop through current polymer dict and store new value in temp dict\n",
    "    for key, value in poly_dict.items():\n",
    "        new_letter = data[key]\n",
    "        poly_temp[key[0]+new_letter] += value\n",
    "        poly_temp[new_letter+key[1]] += value\n",
    "        # for each fraction add new char to char count\n",
    "        char_count[new_letter] += value\n",
    "\n",
    "    # and add new poly to poly_temp\n",
    "    poly_dict = poly_temp.copy()\n",
    "\n",
    "max(char_count.values()) - min(char_count.values())\n",
    "    "
   ]
  },
  {
   "cell_type": "markdown",
   "id": "a10674d4-66a1-419d-a329-3837a4d5fec7",
   "metadata": {},
   "source": [
    "---\n",
    "## Part 1"
   ]
  },
  {
   "cell_type": "code",
   "execution_count": 15,
   "id": "fe5acc66-fbe0-4b2e-8510-3da27a9cddb4",
   "metadata": {},
   "outputs": [],
   "source": [
    "def translate(polymer):\n",
    "    temp_poly = []\n",
    "    for i in range(len(polymer)-1):\n",
    "        s = polymer[i] + polymer[i+1]\n",
    "        temp_poly.append(polymer[i])\n",
    "        temp_poly.append(data[s])\n",
    "        if i == len(polymer)-2:    \n",
    "            temp_poly.append(polymer[i+1])\n",
    "    return temp_poly"
   ]
  },
  {
   "cell_type": "code",
   "execution_count": 16,
   "id": "ca590c61-e08a-45bf-a0bd-8a31a0e047e4",
   "metadata": {},
   "outputs": [
    {
     "name": "stdout",
     "output_type": "stream",
     "text": [
      "working on round 1\n",
      "working on round 2\n",
      "working on round 3\n",
      "working on round 4\n",
      "working on round 5\n",
      "working on round 6\n",
      "working on round 7\n",
      "working on round 8\n",
      "working on round 9\n",
      "working on round 10\n"
     ]
    },
    {
     "data": {
      "text/plain": [
       "2768"
      ]
     },
     "execution_count": 16,
     "metadata": {},
     "output_type": "execute_result"
    }
   ],
   "source": [
    "polymer = list(polymer_template)\n",
    "\n",
    "for x in range(10):\n",
    "    print(f'working on round {x+1}')\n",
    "    #while x\n",
    "    polymer = translate(polymer)\n",
    "    \n",
    "all_freq = {}\n",
    "for i in polymer:\n",
    "    if i in all_freq:\n",
    "        all_freq[i] += 1\n",
    "    else:\n",
    "        all_freq[i] = 1\n",
    "\n",
    "max(all_freq.values()) - min(all_freq.values())"
   ]
  },
  {
   "cell_type": "code",
   "execution_count": null,
   "id": "66fa7c72-456c-4b18-b3a6-30e477cc8bf0",
   "metadata": {},
   "outputs": [],
   "source": []
  }
 ],
 "metadata": {
  "kernelspec": {
   "display_name": "Python 3 (ipykernel)",
   "language": "python",
   "name": "python3"
  },
  "language_info": {
   "codemirror_mode": {
    "name": "ipython",
    "version": 3
   },
   "file_extension": ".py",
   "mimetype": "text/x-python",
   "name": "python",
   "nbconvert_exporter": "python",
   "pygments_lexer": "ipython3",
   "version": "3.8.12"
  }
 },
 "nbformat": 4,
 "nbformat_minor": 5
}
