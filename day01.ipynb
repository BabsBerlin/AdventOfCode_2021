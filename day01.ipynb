{
 "cells": [
  {
   "cell_type": "markdown",
   "id": "79d9f99d-b239-4195-8c10-d14976a32526",
   "metadata": {},
   "source": [
    "# Advent of Code 2021 day01"
   ]
  },
  {
   "cell_type": "code",
   "execution_count": 1,
   "id": "b9d5a791-9976-4197-bc16-6c065ee212e1",
   "metadata": {},
   "outputs": [],
   "source": [
    "import csv\n",
    "import pandas as pd\n",
    "#raw_file = 'day01.txt'\n",
    "raw_file = 'day01_test.txt'"
   ]
  },
  {
   "cell_type": "code",
   "execution_count": 2,
   "id": "3ebdd6ac-8373-4e55-8020-2ccee51891c0",
   "metadata": {
    "tags": []
   },
   "outputs": [
    {
     "data": {
      "text/plain": [
       "[199, 200, 208, 210, 200, 207, 240, 269, 260, 263]"
      ]
     },
     "execution_count": 2,
     "metadata": {},
     "output_type": "execute_result"
    }
   ],
   "source": [
    "with open(raw_file) as f:\n",
    "    lines = f.readlines()\n",
    "nums = [int(number) for number in lines]\n",
    "nums"
   ]
  },
  {
   "cell_type": "markdown",
   "id": "b40b5d65-4933-4580-bab1-ca726ce7ab1e",
   "metadata": {},
   "source": [
    "### part 1: count increase of consecutive numbers"
   ]
  },
  {
   "cell_type": "code",
   "execution_count": 3,
   "id": "5047ee34-a596-4f45-ac14-afdbd5122991",
   "metadata": {},
   "outputs": [
    {
     "data": {
      "text/plain": [
       "7"
      ]
     },
     "execution_count": 3,
     "metadata": {},
     "output_type": "execute_result"
    }
   ],
   "source": [
    "count = 0\n",
    "for index, x in enumerate(nums):\n",
    "    x = int(x)\n",
    "    if index+1 != len(nums):\n",
    "        if x < int(nums[index+1]):\n",
    "            count += 1\n",
    "count   "
   ]
  },
  {
   "cell_type": "markdown",
   "id": "271aef7a-95d0-44a3-8ade-427529790a9f",
   "metadata": {},
   "source": [
    "### part 2a: create a new list that adds up three numbers \n",
    "((1+2+3), (2+3+4), (3+4+5), ...)"
   ]
  },
  {
   "cell_type": "code",
   "execution_count": 4,
   "id": "707a4f2a-a1ff-4cd3-bbdb-ae02ddc5add3",
   "metadata": {
    "tags": []
   },
   "outputs": [
    {
     "data": {
      "text/plain": [
       "[607, 618, 618, 617, 647, 716, 769, 792]"
      ]
     },
     "execution_count": 4,
     "metadata": {},
     "output_type": "execute_result"
    }
   ],
   "source": [
    "new_list = []\n",
    "for index, x in enumerate(nums):\n",
    "    x = int(x)\n",
    "    if index < (len(nums)-2):\n",
    "        y = x + int(nums[index+1]) + int(nums[index+2]) \n",
    "        new_list.append(y)\n",
    "new_list "
   ]
  },
  {
   "cell_type": "markdown",
   "id": "69f7ac4c-5e38-4ff0-b998-9a0d74b59cb2",
   "metadata": {},
   "source": [
    "### part 2b: count increase of consecutive numbers of this new list"
   ]
  },
  {
   "cell_type": "code",
   "execution_count": 5,
   "id": "de7fa582-f6e6-4e11-ae86-c287c781e3e2",
   "metadata": {},
   "outputs": [
    {
     "data": {
      "text/plain": [
       "5"
      ]
     },
     "execution_count": 5,
     "metadata": {},
     "output_type": "execute_result"
    }
   ],
   "source": [
    "# correct for part 2\n",
    "count = 0\n",
    "for index, x in enumerate(new_list):\n",
    "    x = int(x)\n",
    "    if index+1 != len(new_list):\n",
    "        if x < int(new_list[index+1]):\n",
    "            count += 1\n",
    "count    "
   ]
  },
  {
   "cell_type": "code",
   "execution_count": null,
   "id": "b172cf48-5986-4473-b861-1d28dadb24d7",
   "metadata": {},
   "outputs": [],
   "source": []
  }
 ],
 "metadata": {
  "kernelspec": {
   "display_name": "Python 3 (ipykernel)",
   "language": "python",
   "name": "python3"
  },
  "language_info": {
   "codemirror_mode": {
    "name": "ipython",
    "version": 3
   },
   "file_extension": ".py",
   "mimetype": "text/x-python",
   "name": "python",
   "nbconvert_exporter": "python",
   "pygments_lexer": "ipython3",
   "version": "3.8.12"
  }
 },
 "nbformat": 4,
 "nbformat_minor": 5
}
