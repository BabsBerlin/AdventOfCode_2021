{
 "cells": [
  {
   "cell_type": "markdown",
   "id": "e963c355-56f9-4004-8927-e40626cfc995",
   "metadata": {},
   "source": [
    "# Advent of Code 2021 day02"
   ]
  },
  {
   "cell_type": "code",
   "execution_count": 1,
   "id": "cf9d4e96-c743-4f3f-a2ab-8920725c5f1e",
   "metadata": {},
   "outputs": [],
   "source": [
    "import pandas as pd\n",
    "#raw_file_text = 'day02.txt'\n",
    "raw_file_text = 'day02_test.txt'"
   ]
  },
  {
   "cell_type": "markdown",
   "id": "fbca09a6-4a4c-4907-a25a-6a368924f41f",
   "metadata": {},
   "source": [
    "### just open the file and produce a list"
   ]
  },
  {
   "cell_type": "code",
   "execution_count": 2,
   "id": "5a051c50-b309-42ca-b2a6-b5c9a080b217",
   "metadata": {
    "tags": []
   },
   "outputs": [
    {
     "data": {
      "text/plain": [
       "['forward 5\\n', 'down 5\\n', 'forward 8\\n', 'up 3\\n', 'down 8\\n', 'forward 2']"
      ]
     },
     "execution_count": 2,
     "metadata": {},
     "output_type": "execute_result"
    }
   ],
   "source": [
    "with open(raw_file_text) as f:\n",
    "    lines = f.readlines() # produces ['184\\n','205\\n',...]\n",
    "    \n",
    "commands = [line for line in lines]   \n",
    "commands"
   ]
  },
  {
   "cell_type": "markdown",
   "id": "5fbe24e9-68b0-40ab-a286-c9a1c2616844",
   "metadata": {},
   "source": [
    "### get rid of trailing whitespace"
   ]
  },
  {
   "cell_type": "code",
   "execution_count": 3,
   "id": "8a70757e-80a1-4e08-93e7-636082bf76cb",
   "metadata": {
    "tags": []
   },
   "outputs": [
    {
     "data": {
      "text/plain": [
       "['forward 5', 'down 5', 'forward 8', 'up 3', 'down 8', 'forward 2']"
      ]
     },
     "execution_count": 3,
     "metadata": {},
     "output_type": "execute_result"
    }
   ],
   "source": [
    "commands = [code.strip() for code in commands]\n",
    "commands"
   ]
  },
  {
   "cell_type": "markdown",
   "id": "f2b9e712-72cd-46f5-add8-959eab079d4d",
   "metadata": {},
   "source": [
    "### ... and the same in one go"
   ]
  },
  {
   "cell_type": "code",
   "execution_count": 4,
   "id": "2283400e-5849-4843-94a0-a476c3a4c563",
   "metadata": {
    "tags": []
   },
   "outputs": [
    {
     "data": {
      "text/plain": [
       "['forward 5', 'down 5', 'forward 8', 'up 3', 'down 8', 'forward 2']"
      ]
     },
     "execution_count": 4,
     "metadata": {},
     "output_type": "execute_result"
    }
   ],
   "source": [
    "with open(raw_file_text) as f:\n",
    "    lines = f.readlines() # produces ['184\\n','205\\n',...]\n",
    "    \n",
    "commands = [line.strip() for line in lines]   \n",
    "commands"
   ]
  },
  {
   "cell_type": "markdown",
   "id": "ac242f69-ae75-4b15-b4dd-00fba236ad42",
   "metadata": {},
   "source": [
    "## part 1"
   ]
  },
  {
   "cell_type": "code",
   "execution_count": 5,
   "id": "97bcb749-d788-4793-8b0c-37002d3c72ab",
   "metadata": {},
   "outputs": [
    {
     "name": "stdout",
     "output_type": "stream",
     "text": [
      "150\n"
     ]
    }
   ],
   "source": [
    "x = 0\n",
    "y = 0\n",
    "\n",
    "for step in commands:\n",
    "    direction = step[:-2]\n",
    "    num = int(step[-1:])\n",
    "    if direction == 'forward':\n",
    "        x = x + num\n",
    "    elif direction == 'down':\n",
    "        y = y + num\n",
    "    elif direction == 'up':\n",
    "        y = y - num\n",
    "    \n",
    "print(y*x)"
   ]
  },
  {
   "cell_type": "markdown",
   "id": "e64be62b-c6bc-4d46-98c7-eddcf5b08271",
   "metadata": {},
   "source": [
    "## part 2"
   ]
  },
  {
   "cell_type": "code",
   "execution_count": 6,
   "id": "fcdfd5f4-6f27-472a-b864-4e662c730899",
   "metadata": {},
   "outputs": [
    {
     "name": "stdout",
     "output_type": "stream",
     "text": [
      "900\n"
     ]
    }
   ],
   "source": [
    "x = 0\n",
    "y = 0\n",
    "aim = 0\n",
    "\n",
    "for step in commands:\n",
    "    direction = step[:-2]\n",
    "    num = int(step[-1:])\n",
    "    if direction == 'down':\n",
    "        aim = aim + num\n",
    "    elif direction == 'up':\n",
    "        aim = aim - num\n",
    "    elif direction == 'forward':\n",
    "        x = x + num\n",
    "        y = y + (aim * num)\n",
    "    \n",
    "print(y*x)"
   ]
  },
  {
   "cell_type": "code",
   "execution_count": null,
   "id": "014c47ba-14e9-4d3d-a18d-c5ad94d208de",
   "metadata": {},
   "outputs": [],
   "source": []
  }
 ],
 "metadata": {
  "kernelspec": {
   "display_name": "Python 3 (ipykernel)",
   "language": "python",
   "name": "python3"
  },
  "language_info": {
   "codemirror_mode": {
    "name": "ipython",
    "version": 3
   },
   "file_extension": ".py",
   "mimetype": "text/x-python",
   "name": "python",
   "nbconvert_exporter": "python",
   "pygments_lexer": "ipython3",
   "version": "3.8.12"
  }
 },
 "nbformat": 4,
 "nbformat_minor": 5
}
