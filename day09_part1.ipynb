{
 "cells": [
  {
   "cell_type": "markdown",
   "id": "59f56aa6-699a-44eb-a7ed-d28dbdc2358e",
   "metadata": {},
   "source": [
    "# Advent of Code 2021 day09"
   ]
  },
  {
   "cell_type": "code",
   "execution_count": 4,
   "id": "588ab93f-cb2d-49e1-bea6-3c1d5a127025",
   "metadata": {
    "tags": []
   },
   "outputs": [],
   "source": [
    "raw_file = 'day09.txt'\n",
    "#raw_file = 'day09_test.txt'\n",
    "\n",
    "with open(raw_file) as file:\n",
    "    input = file.readlines()\n",
    "\n",
    "data = [row.strip() for row in input]\n",
    "data = [[int(x) for x in r] for r in data]\n",
    "    \n",
    "#data"
   ]
  },
  {
   "cell_type": "markdown",
   "id": "d0ce00a4-ea67-4b87-ac3d-7556fbe339d0",
   "metadata": {},
   "source": [
    "### Part 1"
   ]
  },
  {
   "cell_type": "code",
   "execution_count": 5,
   "id": "d812b641-856e-4492-9e2d-f3021a4d326e",
   "metadata": {},
   "outputs": [
    {
     "data": {
      "text/plain": [
       "475"
      ]
     },
     "execution_count": 5,
     "metadata": {},
     "output_type": "execute_result"
    }
   ],
   "source": [
    "lowest = []\n",
    "last_row = len(data)-1\n",
    "last_col = len(data[0])-1\n",
    "\n",
    "# ******************\n",
    "# check corner cases\n",
    "if data[0][0] < data[0][1] and data[0][0] < data[1][0]:\n",
    "    lowest.append(data[0][0])\n",
    "elif data[0][last_col] < data[0][last_col-1] and data[0][last_col] < data[1][last_col]:\n",
    "    lowest.append(data[0][last_col])\n",
    "elif data[last_row][0] < data[last_row][1] and data[last_row][0] < data[last_row-1][0]:\n",
    "    lowest.append(data[last_row][0])\n",
    "elif data[last_row][last_col] < data[last_row][last_col-1] and data[last_row][last_col] < data[last_row-1][last_col]:\n",
    "    lowest.append(data[last_row][last_col])\n",
    "# *******************\n",
    "# check middle part\n",
    "for row_index in range(0,last_row+1):\n",
    "    for col_index in range(0,last_col+1):\n",
    "        # check the middle part\n",
    "        if row_index > 0 and row_index < last_row and col_index > 0 and col_index < last_col:\n",
    "            if data[row_index][col_index] < data[row_index][col_index-1] and data[row_index][col_index] < data[row_index][col_index+1] and data[row_index][col_index] < data[row_index-1][col_index] and data[row_index][col_index] < data[row_index+1][col_index]:\n",
    "                lowest.append(data[row_index][col_index])\n",
    "        # first row\n",
    "        elif row_index == 0 and col_index > 0 and col_index < last_col:\n",
    "            if data[row_index][col_index] < data[row_index][col_index-1] and data[row_index][col_index] < data[row_index][col_index+1] and data[row_index][col_index] < data[row_index+1][col_index]:\n",
    "                lowest.append(data[row_index][col_index])\n",
    "        # last row\n",
    "        if row_index == last_row and col_index > 0 and col_index < last_col:\n",
    "            if data[row_index][col_index] < data[row_index][col_index-1] and data[row_index][col_index] < data[row_index][col_index+1] and data[row_index][col_index] < data[row_index-1][col_index]:\n",
    "                lowest.append(data[row_index][col_index])\n",
    "        # first col\n",
    "        if col_index == 0 and row_index > 0 and row_index < last_row:\n",
    "            if data[row_index][col_index] < data[row_index][col_index+1] and data[row_index][col_index] < data[row_index-1][col_index] and data[row_index][col_index] < data[row_index+1][col_index]:\n",
    "                lowest.append(data[row_index][col_index])\n",
    "        # last col\n",
    "        if col_index == last_col and row_index > 0 and row_index < last_row:\n",
    "            if data[row_index][col_index] < data[row_index][col_index-1] and data[row_index][col_index] < data[row_index-1][col_index] and data[row_index][col_index] < data[row_index+1][col_index]:\n",
    "                lowest.append(data[row_index][col_index])\n",
    "\n",
    "solution = sum([x+1 for x in lowest])\n",
    "solution\n"
   ]
  },
  {
   "cell_type": "code",
   "execution_count": null,
   "id": "3549767a-53a1-4d2a-a6eb-7ab8eb99a96c",
   "metadata": {},
   "outputs": [],
   "source": []
  }
 ],
 "metadata": {
  "kernelspec": {
   "display_name": "Python 3 (ipykernel)",
   "language": "python",
   "name": "python3"
  },
  "language_info": {
   "codemirror_mode": {
    "name": "ipython",
    "version": 3
   },
   "file_extension": ".py",
   "mimetype": "text/x-python",
   "name": "python",
   "nbconvert_exporter": "python",
   "pygments_lexer": "ipython3",
   "version": "3.8.12"
  }
 },
 "nbformat": 4,
 "nbformat_minor": 5
}
