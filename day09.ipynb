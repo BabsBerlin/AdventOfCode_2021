{
 "cells": [
  {
   "cell_type": "markdown",
   "id": "59f56aa6-699a-44eb-a7ed-d28dbdc2358e",
   "metadata": {},
   "source": [
    "# Advent of Code 2021 day09"
   ]
  },
  {
   "cell_type": "code",
   "execution_count": 1,
   "id": "588ab93f-cb2d-49e1-bea6-3c1d5a127025",
   "metadata": {
    "tags": []
   },
   "outputs": [],
   "source": [
    "#raw_file = 'day09.txt'\n",
    "raw_file = 'day09_test.txt'\n",
    "\n",
    "with open(raw_file) as file:\n",
    "    input = file.readlines()\n",
    "\n",
    "data = [row.strip() for row in input]\n",
    "data = [[int(x) for x in r] for r in data]\n",
    "\n",
    "col_length = len(data)\n",
    "row_length = len(data[0])\n",
    "\n",
    "#data"
   ]
  },
  {
   "cell_type": "markdown",
   "id": "c48f091c-94cc-4528-8e02-67d97dc5589b",
   "metadata": {},
   "source": [
    "---\n",
    "## Part 1"
   ]
  },
  {
   "cell_type": "code",
   "execution_count": 2,
   "id": "f65e3e5d-67c9-4737-8b39-00161d7107c7",
   "metadata": {},
   "outputs": [],
   "source": [
    "def find_horizontal_neighbors(x,y):\n",
    "    neighbors = [[x+1,y], [x,y-1], [x-1,y], [x,y+1]]\n",
    "    return neighbors"
   ]
  },
  {
   "cell_type": "code",
   "execution_count": 3,
   "id": "d63c0bef-508d-4e78-be5b-e7ebeddd4b2a",
   "metadata": {},
   "outputs": [],
   "source": [
    "def find_low_points(rowindex, colindex):\n",
    "    low_point = True\n",
    "    # find neighbors\n",
    "    neighbors = find_horizontal_neighbors(rowindex, colindex)\n",
    "    for n in neighbors:\n",
    "        # check if we're still in range (mind the edges)\n",
    "        if n[0] in range(0,col_length) and n[1] in range(0,row_length):\n",
    "            \n",
    "            # if even one neighbor is lower, the position we're checking for in no low point!\n",
    "            if int(data[n[0]][n[1]]) < int(data[rowindex][colindex]):\n",
    "                low_point = False\n",
    "                break\n",
    "            # since for WHATEVER REASON 9<9 is true in here, I need this check as well    \n",
    "            elif int(data[n[0]][n[1]]) == int(data[rowindex][colindex]):\n",
    "                low_point = False\n",
    "                break\n",
    "\n",
    "    return low_point"
   ]
  },
  {
   "cell_type": "markdown",
   "id": "38125ea6-a00c-48b7-9314-cbd62c66f1cb",
   "metadata": {},
   "source": [
    "---\n",
    "WHY is \"9 < 9\" True??? I had to add a \"9 == 9\" query as well!\n",
    "\n",
    "\n",
    "For spot 0/3 it works, but just because we check \"7 < 9\" first, so we do not go further\n",
    "but for spot 4/2, 4/3, and 4/4 \"9 < 9\" becomes true, so I had to add a \"9 == 9\" query as well\n",
    "---"
   ]
  },
  {
   "cell_type": "code",
   "execution_count": 4,
   "id": "b5c93e45-a808-4f7f-a8e1-99e7ef27ccab",
   "metadata": {},
   "outputs": [
    {
     "name": "stdout",
     "output_type": "stream",
     "text": [
      "the solution is: 15\n"
     ]
    }
   ],
   "source": [
    "low_points_coords = []\n",
    "low_points = []\n",
    "\n",
    "for rowindex, row in enumerate(data):\n",
    "    for colindex, x in enumerate(row):\n",
    "        if find_low_points(rowindex, colindex):\n",
    "            low_points_coords.append([rowindex, colindex]) # need this for part 2\n",
    "            low_points.append(data[rowindex][colindex])\n",
    "\n",
    "solution = sum([x+1 for x in low_points])\n",
    "print(f'the solution is: {solution}')"
   ]
  },
  {
   "cell_type": "markdown",
   "id": "ceeb6be2-f44e-4648-a45d-ef309fcae42c",
   "metadata": {},
   "source": [
    "---\n",
    "## Part 2"
   ]
  },
  {
   "cell_type": "code",
   "execution_count": null,
   "id": "362c3eff-afb6-42e9-a240-01c8f944675b",
   "metadata": {},
   "outputs": [],
   "source": [
    "#low_points_coords"
   ]
  },
  {
   "cell_type": "code",
   "execution_count": 5,
   "id": "758cf135-3287-48c5-bb71-5984e242a68c",
   "metadata": {},
   "outputs": [],
   "source": [
    "def look_for_basin(rowindex, colindex, basin_coords):\n",
    "    \n",
    "    # mark point as visited\n",
    "    data[rowindex][colindex] = 99\n",
    "    \n",
    "    # find neighbors\n",
    "    neighbors = find_horizontal_neighbors(rowindex, colindex)\n",
    "    \n",
    "    for n in neighbors:\n",
    "        # check if we're still in range (mind the edges!)\n",
    "        if n[0] in range(0,col_length) and n[1] in range(0,row_length):\n",
    "            \n",
    "            # point is inside the basin if it is not 9 and not visited, i.e. below 99\n",
    "            if int(data[n[0]][n[1]]) != 9 and int(data[n[0]][n[1]]) < 99:\n",
    "                basin_coords.append([n[0],n[1]])\n",
    "                \n",
    "                look_for_basin(n[0],n[1], basin_coords)\n"
   ]
  },
  {
   "cell_type": "code",
   "execution_count": 6,
   "id": "fe90475c-9bef-41ac-bf88-3b09fc524752",
   "metadata": {},
   "outputs": [
    {
     "name": "stdout",
     "output_type": "stream",
     "text": [
      "the solution for part 2 is 1134\n"
     ]
    }
   ],
   "source": [
    "basin_count = [] # list that holds the basin counts for each basin\n",
    "\n",
    "# for each low_point\n",
    "for low_point in low_points_coords:\n",
    "    \n",
    "    # reset basin count for this low_point\n",
    "    local_basin_count = 0    \n",
    "    # start new basin which only contains the low_point\n",
    "    basin_coords = [low_point]\n",
    "    \n",
    "    # look for other points in the basin and add them to the basin list\n",
    "    look_for_basin(low_point[0], low_point[1],basin_coords)\n",
    "    # count points in this basin list\n",
    "    local_basin_count = len(basin_coords)\n",
    "    \n",
    "    # append count to the basin_count list\n",
    "    basin_count.append(local_basin_count)\n",
    "\n",
    "\n",
    "# sort basin_count and multiply the three largest numbers\n",
    "basin_count = sorted(basin_count)\n",
    "solution = basin_count[-1] * basin_count[-2] * basin_count[-3]\n",
    "\n",
    "print(f'the solution for part 2 is {solution}')"
   ]
  },
  {
   "cell_type": "code",
   "execution_count": null,
   "id": "8ed4ea21-7824-46f3-830a-5eb1dd230156",
   "metadata": {},
   "outputs": [],
   "source": []
  }
 ],
 "metadata": {
  "kernelspec": {
   "display_name": "Python 3 (ipykernel)",
   "language": "python",
   "name": "python3"
  },
  "language_info": {
   "codemirror_mode": {
    "name": "ipython",
    "version": 3
   },
   "file_extension": ".py",
   "mimetype": "text/x-python",
   "name": "python",
   "nbconvert_exporter": "python",
   "pygments_lexer": "ipython3",
   "version": "3.8.12"
  }
 },
 "nbformat": 4,
 "nbformat_minor": 5
}
