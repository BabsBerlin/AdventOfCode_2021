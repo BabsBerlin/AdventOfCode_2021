{
 "cells": [
  {
   "cell_type": "markdown",
   "id": "2ffa8754-cb4b-442e-9524-62b64d3f05a5",
   "metadata": {},
   "source": [
    "# Advent of Code 2021 day 10"
   ]
  },
  {
   "cell_type": "markdown",
   "id": "d4e66206-093f-44e2-a81f-94104b73bcf1",
   "metadata": {},
   "source": [
    "### data input"
   ]
  },
  {
   "cell_type": "code",
   "execution_count": 1,
   "id": "f1c0c315-0515-475e-9db3-2edfe553ddeb",
   "metadata": {
    "tags": []
   },
   "outputs": [
    {
     "name": "stdout",
     "output_type": "stream",
     "text": [
      "102\n"
     ]
    }
   ],
   "source": [
    "raw_file = 'day10.txt'\n",
    "#raw_file = 'day10_test.txt'\n",
    "\n",
    "with open(raw_file) as file:\n",
    "    input = file.readlines()\n",
    "\n",
    "data = [row.strip() for row in input]\n",
    "\n",
    "print(len(data))\n",
    "#data"
   ]
  },
  {
   "cell_type": "markdown",
   "id": "271b3f80-db3a-4cd5-8e26-ab66a60c99f3",
   "metadata": {},
   "source": [
    "---"
   ]
  },
  {
   "cell_type": "markdown",
   "id": "db44a26f-9ec0-434f-8af8-30268fe41088",
   "metadata": {},
   "source": [
    "## Part 1"
   ]
  },
  {
   "cell_type": "code",
   "execution_count": 2,
   "id": "c03af74f-cd8d-4477-bf12-5d28f13c473f",
   "metadata": {},
   "outputs": [
    {
     "data": {
      "text/plain": [
       "319233"
      ]
     },
     "execution_count": 2,
     "metadata": {},
     "output_type": "execute_result"
    }
   ],
   "source": [
    "pairs = {'(':')', '[':']', '{':'}', '<':'>'}        \n",
    "score = 0 \n",
    "\n",
    "for line in data:\n",
    "    charstack = []\n",
    "    for x in line:\n",
    "        if x in list(pairs.keys()):\n",
    "            charstack.append(pairs[x])\n",
    "        elif x not in charstack.pop():\n",
    "            #print(f'found {x}')\n",
    "            if x == ')':\n",
    "                score += 3\n",
    "            elif x == ']':\n",
    "                score += 57\n",
    "            elif x == '}':\n",
    "                score += 1197\n",
    "            elif x == '>':\n",
    "                score += 25137\n",
    "\n",
    "score"
   ]
  },
  {
   "cell_type": "markdown",
   "id": "4b61e1cd-1a20-4960-833c-7e0f4ac1b43b",
   "metadata": {},
   "source": [
    "---"
   ]
  },
  {
   "cell_type": "markdown",
   "id": "ac6b9241-1e4f-48f8-a988-4c673d6dc775",
   "metadata": {},
   "source": [
    "## Part 2"
   ]
  },
  {
   "cell_type": "markdown",
   "id": "48f88793-e6e1-415e-b946-a893f4a2373d",
   "metadata": {},
   "source": [
    "#### 2.1 devide input in corrupted and incomplete lines"
   ]
  },
  {
   "cell_type": "code",
   "execution_count": 3,
   "id": "7700fb01-8b4b-472c-8ce9-f048819db7e7",
   "metadata": {},
   "outputs": [],
   "source": [
    "pairs = {'(':')', '[':']', '{':'}', '<':'>'}        \n",
    "score = 0 \n",
    "corrupted = []\n",
    "incomplete = []\n",
    "\n",
    "# add corrupted lines to list\n",
    "for line in data:\n",
    "    charstack = []\n",
    "    for x in line:\n",
    "        if x in list(pairs.keys()):\n",
    "            charstack.append(pairs[x])\n",
    "        elif x not in charstack.pop(): # not the correct closing \n",
    "            corrupted.append(line)\n",
    "            break\n",
    "\n",
    "#print(len(corrupted))\n",
    "#print(corrupted)\n",
    "\n",
    "# everything that is not in corrupted goes into incomplete\n",
    "for line in data:\n",
    "    if line not in corrupted:\n",
    "        incomplete.append(line)\n",
    "        \n",
    "#print(len(incomplete))\n",
    "#print(incomplete)"
   ]
  },
  {
   "cell_type": "markdown",
   "id": "09a985c6-0802-46fb-9199-5cdd02071c78",
   "metadata": {},
   "source": [
    "#### 2.2 now calculate the score"
   ]
  },
  {
   "cell_type": "code",
   "execution_count": 4,
   "id": "0ad522c2-0261-443f-9722-2ece3728ac1a",
   "metadata": {
    "tags": []
   },
   "outputs": [
    {
     "name": "stdout",
     "output_type": "stream",
     "text": [
      "1118976874\n"
     ]
    }
   ],
   "source": [
    "import statistics\n",
    "\n",
    "points = {')':1, ']':2, '}':3, '>':4}  \n",
    "score2 = []\n",
    "\n",
    "for line in incomplete:\n",
    "    score = 0\n",
    "    charstack = []\n",
    "    for x in line:\n",
    "        if x in list(pairs.keys()):\n",
    "            #print(f'found {x}')\n",
    "            charstack.append(pairs[x])\n",
    "        elif x in charstack.pop():\n",
    "            pass\n",
    "            #print(f'found closer {x}')\n",
    "    for i in range(len(charstack)):\n",
    "        missing = charstack.pop()\n",
    "        score = score * 5\n",
    "        score += points[missing]\n",
    "    score2.append(score)\n",
    "score2 = sorted(score2)\n",
    "#print(score2)\n",
    "# selected the median value\n",
    "print(statistics.median(score2))"
   ]
  },
  {
   "cell_type": "code",
   "execution_count": null,
   "id": "78aede4a-db5f-489c-a2ea-b7123b3af47f",
   "metadata": {},
   "outputs": [],
   "source": []
  }
 ],
 "metadata": {
  "kernelspec": {
   "display_name": "Python 3 (ipykernel)",
   "language": "python",
   "name": "python3"
  },
  "language_info": {
   "codemirror_mode": {
    "name": "ipython",
    "version": 3
   },
   "file_extension": ".py",
   "mimetype": "text/x-python",
   "name": "python",
   "nbconvert_exporter": "python",
   "pygments_lexer": "ipython3",
   "version": "3.8.12"
  }
 },
 "nbformat": 4,
 "nbformat_minor": 5
}
