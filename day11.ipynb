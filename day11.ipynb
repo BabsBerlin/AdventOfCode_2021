{
 "cells": [
  {
   "cell_type": "markdown",
   "id": "a21384b5-f0ad-420d-be7b-676f2d6cabe6",
   "metadata": {},
   "source": [
    "# Advent of Code 2021 day11"
   ]
  },
  {
   "cell_type": "markdown",
   "id": "9f72d2ce-cceb-4599-8a07-9cfec9c0a64f",
   "metadata": {},
   "source": [
    "### import data"
   ]
  },
  {
   "cell_type": "code",
   "execution_count": 1,
   "id": "27cabbe0-a60e-4c23-aaa9-4176d18175ad",
   "metadata": {},
   "outputs": [
    {
     "data": {
      "text/plain": [
       "[[5, 4, 8, 3, 1, 4, 3, 2, 2, 3],\n",
       " [2, 7, 4, 5, 8, 5, 4, 7, 1, 1],\n",
       " [5, 2, 6, 4, 5, 5, 6, 1, 7, 3],\n",
       " [6, 1, 4, 1, 3, 3, 6, 1, 4, 6],\n",
       " [6, 3, 5, 7, 3, 8, 5, 4, 7, 8],\n",
       " [4, 1, 6, 7, 5, 2, 4, 6, 4, 5],\n",
       " [2, 1, 7, 6, 8, 4, 1, 7, 2, 1],\n",
       " [6, 8, 8, 2, 8, 8, 1, 1, 3, 4],\n",
       " [4, 8, 4, 6, 8, 4, 8, 5, 5, 4],\n",
       " [5, 2, 8, 3, 7, 5, 1, 5, 2, 6]]"
      ]
     },
     "execution_count": 1,
     "metadata": {},
     "output_type": "execute_result"
    }
   ],
   "source": [
    "#raw_file = 'day11.txt'\n",
    "raw_file = 'day11_test.txt'\n",
    "\n",
    "with open(raw_file) as file:\n",
    "    input = file.readlines()\n",
    "\n",
    "data = [row.strip() for row in input]\n",
    "data = [[int(x) for x in r] for r in data]\n",
    "\n",
    "data"
   ]
  },
  {
   "cell_type": "markdown",
   "id": "c4865a24-0371-4e99-96df-e9b5deae33d0",
   "metadata": {},
   "source": [
    "### helper methods"
   ]
  },
  {
   "cell_type": "code",
   "execution_count": 2,
   "id": "b980d6f6-f7ac-435c-827d-800b18311d30",
   "metadata": {},
   "outputs": [],
   "source": [
    "from itertools import product\n",
    "\n",
    "def find_neighbors(t):\n",
    "    ranges = [(x-1, x, x+1) for x in t]\n",
    "    result = list(product(*ranges))\n",
    "    result.pop(len(result) // 2)\n",
    "    return result"
   ]
  },
  {
   "cell_type": "code",
   "execution_count": 3,
   "id": "53fb17bb-4776-42d0-af14-71085f548d0e",
   "metadata": {},
   "outputs": [],
   "source": [
    "def check_for_flashes(data):\n",
    "    global flashcount\n",
    "    for rowindex, row in enumerate(data):\n",
    "        for colindex, x in enumerate(row):\n",
    "            if x > 9 and x < 99:\n",
    "                flashcount += 1\n",
    "                data[rowindex][colindex] = 999 #it flash in this step\n",
    "                flash(rowindex, colindex)"
   ]
  },
  {
   "cell_type": "code",
   "execution_count": 4,
   "id": "76a18604-450c-4956-aed7-5d5657c6646d",
   "metadata": {},
   "outputs": [],
   "source": [
    "row = len(data)\n",
    "def flash(rowindex, colindex):\n",
    "    # find neighbor\n",
    "    neighbors = find_neighbors((rowindex, colindex))\n",
    "    for n in neighbors:\n",
    "        #print(n)\n",
    "        if n[0] in range(0,10) and n[1] in range(0,10):\n",
    "            #print('passt')\n",
    "            data[n[0]][n[1]] += 1\n",
    "            #if data[n[0]][n[1]] > 9:\n",
    "        check_for_flashes(data)\n",
    "        #else:\n",
    "            #print('passt nicht')\n"
   ]
  },
  {
   "cell_type": "markdown",
   "id": "777f5bc4-e7c6-4503-8899-bf832fc8b31b",
   "metadata": {},
   "source": [
    "## part 1"
   ]
  },
  {
   "cell_type": "code",
   "execution_count": 5,
   "id": "f4b6b383-d42e-4730-9d82-8db6d5a167d5",
   "metadata": {},
   "outputs": [
    {
     "name": "stdout",
     "output_type": "stream",
     "text": [
      "there was a total of 1656 flashes\n"
     ]
    },
    {
     "data": {
      "text/plain": [
       "[[0, 3, 9, 7, 6, 6, 6, 8, 6, 6],\n",
       " [0, 7, 4, 9, 7, 6, 6, 9, 1, 8],\n",
       " [0, 0, 5, 3, 9, 7, 6, 9, 3, 3],\n",
       " [0, 0, 0, 4, 2, 9, 7, 8, 2, 2],\n",
       " [0, 0, 0, 4, 2, 2, 9, 8, 9, 2],\n",
       " [0, 0, 5, 3, 2, 2, 2, 8, 7, 7],\n",
       " [0, 5, 3, 2, 2, 2, 2, 9, 6, 6],\n",
       " [9, 3, 2, 2, 2, 2, 8, 9, 6, 6],\n",
       " [7, 9, 2, 2, 2, 8, 6, 8, 6, 6],\n",
       " [6, 7, 8, 9, 9, 9, 8, 7, 6, 6]]"
      ]
     },
     "execution_count": 5,
     "metadata": {},
     "output_type": "execute_result"
    }
   ],
   "source": [
    "flashcount = 0\n",
    "\n",
    "for i in range(1,101):\n",
    "    # increase by 1\n",
    "    data = [[x+1 for x in r] for r in data]\n",
    "    \n",
    "    # do the flash\n",
    "    check_for_flashes(data)\n",
    "        \n",
    "    # reset all > 9 to zero\n",
    "    data = [[0 if x > 9 else x for x in r] for r in data]\n",
    "\n",
    "print(f'there was a total of {flashcount} flashes')\n",
    "data"
   ]
  },
  {
   "cell_type": "markdown",
   "id": "7b86844c-d0c1-4f65-9aed-1f6b34789df4",
   "metadata": {},
   "source": [
    "---"
   ]
  },
  {
   "cell_type": "markdown",
   "id": "25f7642c-a9f3-4246-9281-30b0c4baf610",
   "metadata": {},
   "source": [
    "## part 2"
   ]
  },
  {
   "cell_type": "markdown",
   "id": "b76b3ca8-9219-494f-9438-8dd270164a08",
   "metadata": {},
   "source": [
    "### helper method for part 2"
   ]
  },
  {
   "cell_type": "code",
   "execution_count": 6,
   "id": "8d6c0fb6-5f15-4c00-91c8-749372cdf084",
   "metadata": {},
   "outputs": [],
   "source": [
    "from itertools import groupby\n",
    "\n",
    "def all_equal(iterable):\n",
    "    g = groupby(iterable)\n",
    "    return next(g, True) and not next(g, False)"
   ]
  },
  {
   "cell_type": "code",
   "execution_count": 7,
   "id": "f956fec0-3901-44b1-8fd8-9788e8494282",
   "metadata": {},
   "outputs": [
    {
     "name": "stdout",
     "output_type": "stream",
     "text": [
      "all octopuses flash simultaneously after step 95\n",
      "there was a total of 1469 flashes\n"
     ]
    },
    {
     "data": {
      "text/plain": [
       "[[0, 0, 0, 0, 0, 0, 0, 0, 0, 0],\n",
       " [0, 0, 0, 0, 0, 0, 0, 0, 0, 0],\n",
       " [0, 0, 0, 0, 0, 0, 0, 0, 0, 0],\n",
       " [0, 0, 0, 0, 0, 0, 0, 0, 0, 0],\n",
       " [0, 0, 0, 0, 0, 0, 0, 0, 0, 0],\n",
       " [0, 0, 0, 0, 0, 0, 0, 0, 0, 0],\n",
       " [0, 0, 0, 0, 0, 0, 0, 0, 0, 0],\n",
       " [0, 0, 0, 0, 0, 0, 0, 0, 0, 0],\n",
       " [0, 0, 0, 0, 0, 0, 0, 0, 0, 0],\n",
       " [0, 0, 0, 0, 0, 0, 0, 0, 0, 0]]"
      ]
     },
     "execution_count": 7,
     "metadata": {},
     "output_type": "execute_result"
    }
   ],
   "source": [
    "flashcount = 0\n",
    "\n",
    "for i in range(1,401):\n",
    "    # increase by 1\n",
    "    data = [[x+1 for x in r] for r in data]\n",
    "\n",
    "    # do the flash\n",
    "    check_for_flashes(data)\n",
    "        \n",
    "    # reset all > 9 to zero\n",
    "    data = [[0 if x > 9 else x for x in r] for r in data]\n",
    "    \n",
    "    if all_equal(data):\n",
    "        print(f'all octopuses flash simultaneously after step {i}')\n",
    "        break\n",
    "\n",
    "print(f'there was a total of {flashcount} flashes')\n",
    "data"
   ]
  },
  {
   "cell_type": "code",
   "execution_count": null,
   "id": "44a48b26-72f8-4ce5-a042-d57f7c425ef7",
   "metadata": {},
   "outputs": [],
   "source": []
  }
 ],
 "metadata": {
  "kernelspec": {
   "display_name": "Python 3 (ipykernel)",
   "language": "python",
   "name": "python3"
  },
  "language_info": {
   "codemirror_mode": {
    "name": "ipython",
    "version": 3
   },
   "file_extension": ".py",
   "mimetype": "text/x-python",
   "name": "python",
   "nbconvert_exporter": "python",
   "pygments_lexer": "ipython3",
   "version": "3.8.12"
  }
 },
 "nbformat": 4,
 "nbformat_minor": 5
}
