{
 "cells": [
  {
   "cell_type": "markdown",
   "id": "b9d2413c-96dd-4d15-8910-b90e07662a72",
   "metadata": {},
   "source": [
    "# Advent of Code 2021 day 13"
   ]
  },
  {
   "cell_type": "markdown",
   "id": "f17f6527-28f1-4050-bab9-9d91cb582d56",
   "metadata": {},
   "source": [
    "### data input"
   ]
  },
  {
   "cell_type": "code",
   "execution_count": 1,
   "id": "20142873-bfdc-4f86-9d22-251b21bbadf3",
   "metadata": {
    "tags": []
   },
   "outputs": [
    {
     "name": "stdout",
     "output_type": "stream",
     "text": [
      "18\n"
     ]
    }
   ],
   "source": [
    "import numpy as np\n",
    "\n",
    "# devided the input into \"points\" and \"fold instructions\"\n",
    "#raw_file = 'day13.txt'\n",
    "raw_file = 'day13_test.txt'\n",
    "\n",
    "with open(raw_file) as file:\n",
    "    input = file.readlines()\n",
    "\n",
    "data = [row.strip() for row in input]\n",
    "data = [x.split(',') for x in data]\n",
    "data = [[int(x) for x in r] for r in data]\n",
    "\n",
    "col_length = len(data)\n",
    "row_length = len(data[0])\n",
    "\n",
    "print(len(data))\n",
    "#data"
   ]
  },
  {
   "cell_type": "markdown",
   "id": "fc5827d1-9a83-426c-ba22-ddd62c8a0e02",
   "metadata": {},
   "source": [
    "---\n",
    "\n",
    "#### create the transparent paper"
   ]
  },
  {
   "cell_type": "code",
   "execution_count": 2,
   "id": "bc9c9f91-46c8-4484-8b0f-a6a14dd92672",
   "metadata": {},
   "outputs": [
    {
     "name": "stdout",
     "output_type": "stream",
     "text": [
      "11\n",
      "15\n"
     ]
    }
   ],
   "source": [
    "# find the highest value of the coordinates\n",
    "max_x = 0\n",
    "max_y = 0\n",
    "\n",
    "for x in data:\n",
    "    if x[0] > max_x:\n",
    "        max_x = x[0]\n",
    "    if x[1] > max_y:\n",
    "        max_y = x[1]\n",
    "\n",
    "x_length = max_x+1 #max(data[0]) + 1\n",
    "y_length = max_y+1 #max(data[1]) + 1\n",
    "print(x_length)\n",
    "print(y_length)"
   ]
  },
  {
   "cell_type": "code",
   "execution_count": 8,
   "id": "03046eec-7ee4-430d-8e32-de6ee0001f1d",
   "metadata": {},
   "outputs": [
    {
     "data": {
      "text/plain": [
       "array([[0, 0, 0, 0, 0, 0, 0, 0, 0, 0, 0],\n",
       "       [0, 0, 0, 0, 0, 0, 0, 0, 0, 0, 0],\n",
       "       [0, 0, 0, 0, 0, 0, 0, 0, 0, 0, 0],\n",
       "       [0, 0, 0, 0, 0, 0, 0, 0, 0, 0, 0],\n",
       "       [0, 0, 0, 0, 0, 0, 0, 0, 0, 0, 0],\n",
       "       [0, 0, 0, 0, 0, 0, 0, 0, 0, 0, 0],\n",
       "       [0, 0, 0, 0, 0, 0, 0, 0, 0, 0, 0],\n",
       "       [0, 0, 0, 0, 0, 0, 0, 0, 0, 0, 0],\n",
       "       [0, 0, 0, 0, 0, 0, 0, 0, 0, 0, 0],\n",
       "       [0, 0, 0, 0, 0, 0, 0, 0, 0, 0, 0],\n",
       "       [0, 0, 0, 0, 0, 0, 0, 0, 0, 0, 0],\n",
       "       [0, 0, 0, 0, 0, 0, 0, 0, 0, 0, 0],\n",
       "       [0, 0, 0, 0, 0, 0, 0, 0, 0, 0, 0],\n",
       "       [0, 0, 0, 0, 0, 0, 0, 0, 0, 0, 0],\n",
       "       [0, 0, 0, 0, 0, 0, 0, 0, 0, 0, 0]])"
      ]
     },
     "execution_count": 8,
     "metadata": {},
     "output_type": "execute_result"
    }
   ],
   "source": [
    "# initialize the paper with zeros\n",
    "paper = np.zeros((y_length,x_length), int)\n",
    "paper"
   ]
  },
  {
   "cell_type": "code",
   "execution_count": 9,
   "id": "a8ba1d34-c3aa-40f2-a4b3-4c0a582f48b9",
   "metadata": {},
   "outputs": [
    {
     "data": {
      "text/plain": [
       "array([[ 0,  0,  0, 99,  0,  0, 99,  0,  0, 99,  0],\n",
       "       [ 0,  0,  0,  0, 99,  0,  0,  0,  0,  0,  0],\n",
       "       [ 0,  0,  0,  0,  0,  0,  0,  0,  0,  0,  0],\n",
       "       [99,  0,  0,  0,  0,  0,  0,  0,  0,  0,  0],\n",
       "       [ 0,  0,  0, 99,  0,  0,  0,  0, 99,  0, 99],\n",
       "       [ 0,  0,  0,  0,  0,  0,  0,  0,  0,  0,  0],\n",
       "       [ 0,  0,  0,  0,  0,  0,  0,  0,  0,  0,  0],\n",
       "       [ 0,  0,  0,  0,  0,  0,  0,  0,  0,  0,  0],\n",
       "       [ 0,  0,  0,  0,  0,  0,  0,  0,  0,  0,  0],\n",
       "       [ 0,  0,  0,  0,  0,  0,  0,  0,  0,  0,  0],\n",
       "       [ 0, 99,  0,  0,  0,  0, 99,  0, 99, 99,  0],\n",
       "       [ 0,  0,  0,  0, 99,  0,  0,  0,  0,  0,  0],\n",
       "       [ 0,  0,  0,  0,  0,  0, 99,  0,  0,  0, 99],\n",
       "       [99,  0,  0,  0,  0,  0,  0,  0,  0,  0,  0],\n",
       "       [99,  0, 99,  0,  0,  0,  0,  0,  0,  0,  0]])"
      ]
     },
     "execution_count": 9,
     "metadata": {},
     "output_type": "execute_result"
    }
   ],
   "source": [
    "# fill the paper with the dots\n",
    "for x in data:\n",
    "    paper[x[1]][x[0]] = 99\n",
    "paper"
   ]
  },
  {
   "cell_type": "markdown",
   "id": "b6cc3955-c4b7-4e9d-a2a1-3f01eee203b2",
   "metadata": {},
   "source": [
    "---\n",
    "\n",
    "#### methods to fold"
   ]
  },
  {
   "cell_type": "code",
   "execution_count": 5,
   "id": "02b8d28e-8ade-41f5-82a6-14983dae089c",
   "metadata": {},
   "outputs": [],
   "source": [
    "def vertical_fold(fold_col, paper):\n",
    "    for row_index, x in enumerate(paper):\n",
    "        for col_index, y in enumerate(x):\n",
    "            if col_index > fold_col:\n",
    "                if paper[row_index][col_index] > 0:\n",
    "                    paper[row_index][fold_col-(col_index-fold_col)] = 33\n",
    "    # return only the folded section of the paper\n",
    "    return paper[:,:fold_col]"
   ]
  },
  {
   "cell_type": "code",
   "execution_count": 6,
   "id": "577c821a-a3e2-4399-955a-72eec3046122",
   "metadata": {},
   "outputs": [],
   "source": [
    "def horizontal_fold(fold_row, paper):\n",
    "    for row_index, x in enumerate(paper):\n",
    "        for col_index, y in enumerate(x):\n",
    "            if row_index > fold_row:\n",
    "                if paper[row_index][col_index] > 0:\n",
    "                    paper[fold_row-(row_index-fold_row)][col_index] = 33\n",
    "    # return only the folded section of the paper\n",
    "    return paper[:fold_row]"
   ]
  },
  {
   "cell_type": "markdown",
   "id": "e4616404-8542-43aa-b00a-25910302c116",
   "metadata": {},
   "source": [
    "---"
   ]
  },
  {
   "cell_type": "markdown",
   "id": "554d62b6-48a9-44ec-ae5f-8197a7be54b9",
   "metadata": {},
   "source": [
    "### Part 1"
   ]
  },
  {
   "cell_type": "code",
   "execution_count": 7,
   "id": "624a069c-1875-4001-a89a-bc68ff8709a9",
   "metadata": {},
   "outputs": [
    {
     "name": "stdout",
     "output_type": "stream",
     "text": [
      "[[33  0 33 99  0  0 99  0  0 99  0]\n",
      " [33  0  0  0 99  0  0  0  0  0  0]\n",
      " [ 0  0  0  0  0  0 33  0  0  0 33]\n",
      " [99  0  0  0 33  0  0  0  0  0  0]\n",
      " [ 0 33  0 99  0  0 33  0 33 33 99]\n",
      " [ 0  0  0  0  0  0  0  0  0  0  0]\n",
      " [ 0  0  0  0  0  0  0  0  0  0  0]]\n",
      "17\n"
     ]
    }
   ],
   "source": [
    "if 'test' in raw_file:\n",
    "    fold = ['y',7]\n",
    "else:\n",
    "    fold = ['x',655]\n",
    "\n",
    "if fold[0] == 'y':\n",
    "    paper = horizontal_fold(fold[1], paper)\n",
    "elif fold[0] == 'x':\n",
    "    paper = vertical_fold(fold[1], paper)\n",
    "    \n",
    "print(paper)\n",
    "print(np.count_nonzero(paper))"
   ]
  },
  {
   "cell_type": "markdown",
   "id": "d259043d-7359-49ac-81c0-264da1eb9404",
   "metadata": {},
   "source": [
    "---\n",
    "\n",
    "### Part 2\n",
    "\n",
    "ATTENTION: reset the paper before executing part 2, i.e. initialize with zeros and add the dots"
   ]
  },
  {
   "cell_type": "code",
   "execution_count": null,
   "id": "197fa434-f413-4192-a168-4ae0d295ef31",
   "metadata": {},
   "outputs": [],
   "source": [
    "# I was too tired and just hard coded the folds\n",
    "folds = [\n",
    "['x',655],\n",
    "['y',447],\n",
    "['x',327],\n",
    "['y',223],\n",
    "['x',163],\n",
    "['y',111],\n",
    "['x',81],\n",
    "['y',55],\n",
    "['x',40],\n",
    "['y',27],\n",
    "['y',13],\n",
    "['y',6]]"
   ]
  },
  {
   "cell_type": "code",
   "execution_count": null,
   "id": "cbfd70f9-514b-4e13-8c01-31ac49d8d8d3",
   "metadata": {},
   "outputs": [],
   "source": [
    "for fold in folds:\n",
    "    if fold[0] == 'y':\n",
    "        paper = horizontal_fold(fold[1], paper)\n",
    "        #print(f'do horizontal fold: {fold}')\n",
    "    elif fold[0] == 'x':\n",
    "        paper = vertical_fold(fold[1], paper)\n",
    "        #print(f'do vertical fold: {fold}')\n",
    "print(paper)\n",
    "print(paper.shape)"
   ]
  },
  {
   "cell_type": "markdown",
   "id": "390dc1d0-50b5-4975-9274-7808f95257bc",
   "metadata": {},
   "source": [
    "---\n",
    "for the test data:"
   ]
  },
  {
   "cell_type": "code",
   "execution_count": 10,
   "id": "1c26a38f-54f4-4ee4-836e-207b3fba6f41",
   "metadata": {},
   "outputs": [
    {
     "name": "stdout",
     "output_type": "stream",
     "text": [
      "do horizontal fold: ['y', 7]\n",
      "do vertical fold: ['x', 5]\n",
      "[[33 33 33 99 33]\n",
      " [33  0  0  0 99]\n",
      " [33  0  0  0 33]\n",
      " [99  0  0  0 33]\n",
      " [33 33 33 99 33]\n",
      " [ 0  0  0  0  0]\n",
      " [ 0  0  0  0  0]]\n",
      "(7, 5)\n"
     ]
    }
   ],
   "source": [
    "test_folds = [['y',7], ['x',5]]\n",
    "\n",
    "for fold in test_folds:\n",
    "    if fold[0] == 'y':\n",
    "        paper = horizontal_fold(fold[1], paper)\n",
    "        print(f'do horizontal fold: {fold}')\n",
    "    elif fold[0] == 'x':\n",
    "        paper = vertical_fold(fold[1], paper)\n",
    "        print(f'do vertical fold: {fold}')\n",
    "print(paper)\n",
    "print(paper.shape)"
   ]
  },
  {
   "cell_type": "code",
   "execution_count": null,
   "id": "144352ba-218f-43e0-ba20-4eb2e7d0bb3e",
   "metadata": {},
   "outputs": [],
   "source": []
  }
 ],
 "metadata": {
  "kernelspec": {
   "display_name": "Python 3 (ipykernel)",
   "language": "python",
   "name": "python3"
  },
  "language_info": {
   "codemirror_mode": {
    "name": "ipython",
    "version": 3
   },
   "file_extension": ".py",
   "mimetype": "text/x-python",
   "name": "python",
   "nbconvert_exporter": "python",
   "pygments_lexer": "ipython3",
   "version": "3.8.12"
  }
 },
 "nbformat": 4,
 "nbformat_minor": 5
}
